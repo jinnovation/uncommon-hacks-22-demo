{
  "nbformat": 4,
  "nbformat_minor": 0,
  "metadata": {
    "colab": {
      "name": "Uncommon Hacks '22: Bootstrapping ML Projects with Hugging Face and Gradio",
      "provenance": [],
      "collapsed_sections": [],
      "toc_visible": true,
      "authorship_tag": "ABX9TyMNeyYOEyWYSnuH6QyYISPj",
      "include_colab_link": true
    },
    "kernelspec": {
      "name": "python3",
      "display_name": "Python 3"
    },
    "language_info": {
      "name": "python"
    },
    "widgets": {
      "application/vnd.jupyter.widget-state+json": {
        "918db0f52109486c86b670763ce28b4a": {
          "model_module": "@jupyter-widgets/controls",
          "model_name": "HBoxModel",
          "model_module_version": "1.5.0",
          "state": {
            "_dom_classes": [],
            "_model_module": "@jupyter-widgets/controls",
            "_model_module_version": "1.5.0",
            "_model_name": "HBoxModel",
            "_view_count": null,
            "_view_module": "@jupyter-widgets/controls",
            "_view_module_version": "1.5.0",
            "_view_name": "HBoxView",
            "box_style": "",
            "children": [
              "IPY_MODEL_df46e64e22924bde90358c49c366c69e",
              "IPY_MODEL_3198aaef35fc4b7d9961015093c36e1d",
              "IPY_MODEL_371de2c36eb9403c87e67b416f5e2103"
            ],
            "layout": "IPY_MODEL_9a80afd23bbe4fd3a85a523906c1fe8c"
          }
        },
        "df46e64e22924bde90358c49c366c69e": {
          "model_module": "@jupyter-widgets/controls",
          "model_name": "HTMLModel",
          "model_module_version": "1.5.0",
          "state": {
            "_dom_classes": [],
            "_model_module": "@jupyter-widgets/controls",
            "_model_module_version": "1.5.0",
            "_model_name": "HTMLModel",
            "_view_count": null,
            "_view_module": "@jupyter-widgets/controls",
            "_view_module_version": "1.5.0",
            "_view_name": "HTMLView",
            "description": "",
            "description_tooltip": null,
            "layout": "IPY_MODEL_17ff12bc12034abc8a749f5f918c77ab",
            "placeholder": "​",
            "style": "IPY_MODEL_5b82713f4b7d46268194de13df610f35",
            "value": "Downloading: 100%"
          }
        },
        "3198aaef35fc4b7d9961015093c36e1d": {
          "model_module": "@jupyter-widgets/controls",
          "model_name": "FloatProgressModel",
          "model_module_version": "1.5.0",
          "state": {
            "_dom_classes": [],
            "_model_module": "@jupyter-widgets/controls",
            "_model_module_version": "1.5.0",
            "_model_name": "FloatProgressModel",
            "_view_count": null,
            "_view_module": "@jupyter-widgets/controls",
            "_view_module_version": "1.5.0",
            "_view_name": "ProgressView",
            "bar_style": "success",
            "description": "",
            "description_tooltip": null,
            "layout": "IPY_MODEL_f803c3cb08ce441db9b3de712c5e8489",
            "max": 69665,
            "min": 0,
            "orientation": "horizontal",
            "style": "IPY_MODEL_a402084700c04339bedfd774d7536a34",
            "value": 69665
          }
        },
        "371de2c36eb9403c87e67b416f5e2103": {
          "model_module": "@jupyter-widgets/controls",
          "model_name": "HTMLModel",
          "model_module_version": "1.5.0",
          "state": {
            "_dom_classes": [],
            "_model_module": "@jupyter-widgets/controls",
            "_model_module_version": "1.5.0",
            "_model_name": "HTMLModel",
            "_view_count": null,
            "_view_module": "@jupyter-widgets/controls",
            "_view_module_version": "1.5.0",
            "_view_name": "HTMLView",
            "description": "",
            "description_tooltip": null,
            "layout": "IPY_MODEL_daba19a118b54ee6befb876b8e6884c0",
            "placeholder": "​",
            "style": "IPY_MODEL_5a6e4380665e4bb9b348cf6b2fbaab70",
            "value": " 68.0k/68.0k [00:00&lt;00:00, 1.38MB/s]"
          }
        },
        "9a80afd23bbe4fd3a85a523906c1fe8c": {
          "model_module": "@jupyter-widgets/base",
          "model_name": "LayoutModel",
          "model_module_version": "1.2.0",
          "state": {
            "_model_module": "@jupyter-widgets/base",
            "_model_module_version": "1.2.0",
            "_model_name": "LayoutModel",
            "_view_count": null,
            "_view_module": "@jupyter-widgets/base",
            "_view_module_version": "1.2.0",
            "_view_name": "LayoutView",
            "align_content": null,
            "align_items": null,
            "align_self": null,
            "border": null,
            "bottom": null,
            "display": null,
            "flex": null,
            "flex_flow": null,
            "grid_area": null,
            "grid_auto_columns": null,
            "grid_auto_flow": null,
            "grid_auto_rows": null,
            "grid_column": null,
            "grid_gap": null,
            "grid_row": null,
            "grid_template_areas": null,
            "grid_template_columns": null,
            "grid_template_rows": null,
            "height": null,
            "justify_content": null,
            "justify_items": null,
            "left": null,
            "margin": null,
            "max_height": null,
            "max_width": null,
            "min_height": null,
            "min_width": null,
            "object_fit": null,
            "object_position": null,
            "order": null,
            "overflow": null,
            "overflow_x": null,
            "overflow_y": null,
            "padding": null,
            "right": null,
            "top": null,
            "visibility": null,
            "width": null
          }
        },
        "17ff12bc12034abc8a749f5f918c77ab": {
          "model_module": "@jupyter-widgets/base",
          "model_name": "LayoutModel",
          "model_module_version": "1.2.0",
          "state": {
            "_model_module": "@jupyter-widgets/base",
            "_model_module_version": "1.2.0",
            "_model_name": "LayoutModel",
            "_view_count": null,
            "_view_module": "@jupyter-widgets/base",
            "_view_module_version": "1.2.0",
            "_view_name": "LayoutView",
            "align_content": null,
            "align_items": null,
            "align_self": null,
            "border": null,
            "bottom": null,
            "display": null,
            "flex": null,
            "flex_flow": null,
            "grid_area": null,
            "grid_auto_columns": null,
            "grid_auto_flow": null,
            "grid_auto_rows": null,
            "grid_column": null,
            "grid_gap": null,
            "grid_row": null,
            "grid_template_areas": null,
            "grid_template_columns": null,
            "grid_template_rows": null,
            "height": null,
            "justify_content": null,
            "justify_items": null,
            "left": null,
            "margin": null,
            "max_height": null,
            "max_width": null,
            "min_height": null,
            "min_width": null,
            "object_fit": null,
            "object_position": null,
            "order": null,
            "overflow": null,
            "overflow_x": null,
            "overflow_y": null,
            "padding": null,
            "right": null,
            "top": null,
            "visibility": null,
            "width": null
          }
        },
        "5b82713f4b7d46268194de13df610f35": {
          "model_module": "@jupyter-widgets/controls",
          "model_name": "DescriptionStyleModel",
          "model_module_version": "1.5.0",
          "state": {
            "_model_module": "@jupyter-widgets/controls",
            "_model_module_version": "1.5.0",
            "_model_name": "DescriptionStyleModel",
            "_view_count": null,
            "_view_module": "@jupyter-widgets/base",
            "_view_module_version": "1.2.0",
            "_view_name": "StyleView",
            "description_width": ""
          }
        },
        "f803c3cb08ce441db9b3de712c5e8489": {
          "model_module": "@jupyter-widgets/base",
          "model_name": "LayoutModel",
          "model_module_version": "1.2.0",
          "state": {
            "_model_module": "@jupyter-widgets/base",
            "_model_module_version": "1.2.0",
            "_model_name": "LayoutModel",
            "_view_count": null,
            "_view_module": "@jupyter-widgets/base",
            "_view_module_version": "1.2.0",
            "_view_name": "LayoutView",
            "align_content": null,
            "align_items": null,
            "align_self": null,
            "border": null,
            "bottom": null,
            "display": null,
            "flex": null,
            "flex_flow": null,
            "grid_area": null,
            "grid_auto_columns": null,
            "grid_auto_flow": null,
            "grid_auto_rows": null,
            "grid_column": null,
            "grid_gap": null,
            "grid_row": null,
            "grid_template_areas": null,
            "grid_template_columns": null,
            "grid_template_rows": null,
            "height": null,
            "justify_content": null,
            "justify_items": null,
            "left": null,
            "margin": null,
            "max_height": null,
            "max_width": null,
            "min_height": null,
            "min_width": null,
            "object_fit": null,
            "object_position": null,
            "order": null,
            "overflow": null,
            "overflow_x": null,
            "overflow_y": null,
            "padding": null,
            "right": null,
            "top": null,
            "visibility": null,
            "width": null
          }
        },
        "a402084700c04339bedfd774d7536a34": {
          "model_module": "@jupyter-widgets/controls",
          "model_name": "ProgressStyleModel",
          "model_module_version": "1.5.0",
          "state": {
            "_model_module": "@jupyter-widgets/controls",
            "_model_module_version": "1.5.0",
            "_model_name": "ProgressStyleModel",
            "_view_count": null,
            "_view_module": "@jupyter-widgets/base",
            "_view_module_version": "1.2.0",
            "_view_name": "StyleView",
            "bar_color": null,
            "description_width": ""
          }
        },
        "daba19a118b54ee6befb876b8e6884c0": {
          "model_module": "@jupyter-widgets/base",
          "model_name": "LayoutModel",
          "model_module_version": "1.2.0",
          "state": {
            "_model_module": "@jupyter-widgets/base",
            "_model_module_version": "1.2.0",
            "_model_name": "LayoutModel",
            "_view_count": null,
            "_view_module": "@jupyter-widgets/base",
            "_view_module_version": "1.2.0",
            "_view_name": "LayoutView",
            "align_content": null,
            "align_items": null,
            "align_self": null,
            "border": null,
            "bottom": null,
            "display": null,
            "flex": null,
            "flex_flow": null,
            "grid_area": null,
            "grid_auto_columns": null,
            "grid_auto_flow": null,
            "grid_auto_rows": null,
            "grid_column": null,
            "grid_gap": null,
            "grid_row": null,
            "grid_template_areas": null,
            "grid_template_columns": null,
            "grid_template_rows": null,
            "height": null,
            "justify_content": null,
            "justify_items": null,
            "left": null,
            "margin": null,
            "max_height": null,
            "max_width": null,
            "min_height": null,
            "min_width": null,
            "object_fit": null,
            "object_position": null,
            "order": null,
            "overflow": null,
            "overflow_x": null,
            "overflow_y": null,
            "padding": null,
            "right": null,
            "top": null,
            "visibility": null,
            "width": null
          }
        },
        "5a6e4380665e4bb9b348cf6b2fbaab70": {
          "model_module": "@jupyter-widgets/controls",
          "model_name": "DescriptionStyleModel",
          "model_module_version": "1.5.0",
          "state": {
            "_model_module": "@jupyter-widgets/controls",
            "_model_module_version": "1.5.0",
            "_model_name": "DescriptionStyleModel",
            "_view_count": null,
            "_view_module": "@jupyter-widgets/base",
            "_view_module_version": "1.2.0",
            "_view_name": "StyleView",
            "description_width": ""
          }
        },
        "faa96024fd8b445c8fda818f805007c3": {
          "model_module": "@jupyter-widgets/controls",
          "model_name": "HBoxModel",
          "model_module_version": "1.5.0",
          "state": {
            "_dom_classes": [],
            "_model_module": "@jupyter-widgets/controls",
            "_model_module_version": "1.5.0",
            "_model_name": "HBoxModel",
            "_view_count": null,
            "_view_module": "@jupyter-widgets/controls",
            "_view_module_version": "1.5.0",
            "_view_name": "HBoxView",
            "box_style": "",
            "children": [
              "IPY_MODEL_32bee01524414a279c50e06c96a46465",
              "IPY_MODEL_95e3e5db4939467188b74f3f6dfa3c61",
              "IPY_MODEL_5eb068d7788a437c8054090644fb39ed"
            ],
            "layout": "IPY_MODEL_056edd1c814c47818b16dcf104b0c183"
          }
        },
        "32bee01524414a279c50e06c96a46465": {
          "model_module": "@jupyter-widgets/controls",
          "model_name": "HTMLModel",
          "model_module_version": "1.5.0",
          "state": {
            "_dom_classes": [],
            "_model_module": "@jupyter-widgets/controls",
            "_model_module_version": "1.5.0",
            "_model_name": "HTMLModel",
            "_view_count": null,
            "_view_module": "@jupyter-widgets/controls",
            "_view_module_version": "1.5.0",
            "_view_name": "HTMLView",
            "description": "",
            "description_tooltip": null,
            "layout": "IPY_MODEL_bedcf5f641384018abcd2a963acf1091",
            "placeholder": "​",
            "style": "IPY_MODEL_63eca14b6a63452a9becfae58f2a61a2",
            "value": "Downloading: 100%"
          }
        },
        "95e3e5db4939467188b74f3f6dfa3c61": {
          "model_module": "@jupyter-widgets/controls",
          "model_name": "FloatProgressModel",
          "model_module_version": "1.5.0",
          "state": {
            "_dom_classes": [],
            "_model_module": "@jupyter-widgets/controls",
            "_model_module_version": "1.5.0",
            "_model_name": "FloatProgressModel",
            "_view_count": null,
            "_view_module": "@jupyter-widgets/controls",
            "_view_module_version": "1.5.0",
            "_view_name": "ProgressView",
            "bar_style": "success",
            "description": "",
            "description_tooltip": null,
            "layout": "IPY_MODEL_531161dc4b554ec1afe4ea4ef001d102",
            "max": 346351599,
            "min": 0,
            "orientation": "horizontal",
            "style": "IPY_MODEL_e1383bdf7823477db96f15b7e1356f56",
            "value": 346351599
          }
        },
        "5eb068d7788a437c8054090644fb39ed": {
          "model_module": "@jupyter-widgets/controls",
          "model_name": "HTMLModel",
          "model_module_version": "1.5.0",
          "state": {
            "_dom_classes": [],
            "_model_module": "@jupyter-widgets/controls",
            "_model_module_version": "1.5.0",
            "_model_name": "HTMLModel",
            "_view_count": null,
            "_view_module": "@jupyter-widgets/controls",
            "_view_module_version": "1.5.0",
            "_view_name": "HTMLView",
            "description": "",
            "description_tooltip": null,
            "layout": "IPY_MODEL_8ca41101600b40f4ba102dfb22a11eee",
            "placeholder": "​",
            "style": "IPY_MODEL_a7e971a640ba46c8a845c7ae1ae26b2d",
            "value": " 330M/330M [00:10&lt;00:00, 33.3MB/s]"
          }
        },
        "056edd1c814c47818b16dcf104b0c183": {
          "model_module": "@jupyter-widgets/base",
          "model_name": "LayoutModel",
          "model_module_version": "1.2.0",
          "state": {
            "_model_module": "@jupyter-widgets/base",
            "_model_module_version": "1.2.0",
            "_model_name": "LayoutModel",
            "_view_count": null,
            "_view_module": "@jupyter-widgets/base",
            "_view_module_version": "1.2.0",
            "_view_name": "LayoutView",
            "align_content": null,
            "align_items": null,
            "align_self": null,
            "border": null,
            "bottom": null,
            "display": null,
            "flex": null,
            "flex_flow": null,
            "grid_area": null,
            "grid_auto_columns": null,
            "grid_auto_flow": null,
            "grid_auto_rows": null,
            "grid_column": null,
            "grid_gap": null,
            "grid_row": null,
            "grid_template_areas": null,
            "grid_template_columns": null,
            "grid_template_rows": null,
            "height": null,
            "justify_content": null,
            "justify_items": null,
            "left": null,
            "margin": null,
            "max_height": null,
            "max_width": null,
            "min_height": null,
            "min_width": null,
            "object_fit": null,
            "object_position": null,
            "order": null,
            "overflow": null,
            "overflow_x": null,
            "overflow_y": null,
            "padding": null,
            "right": null,
            "top": null,
            "visibility": null,
            "width": null
          }
        },
        "bedcf5f641384018abcd2a963acf1091": {
          "model_module": "@jupyter-widgets/base",
          "model_name": "LayoutModel",
          "model_module_version": "1.2.0",
          "state": {
            "_model_module": "@jupyter-widgets/base",
            "_model_module_version": "1.2.0",
            "_model_name": "LayoutModel",
            "_view_count": null,
            "_view_module": "@jupyter-widgets/base",
            "_view_module_version": "1.2.0",
            "_view_name": "LayoutView",
            "align_content": null,
            "align_items": null,
            "align_self": null,
            "border": null,
            "bottom": null,
            "display": null,
            "flex": null,
            "flex_flow": null,
            "grid_area": null,
            "grid_auto_columns": null,
            "grid_auto_flow": null,
            "grid_auto_rows": null,
            "grid_column": null,
            "grid_gap": null,
            "grid_row": null,
            "grid_template_areas": null,
            "grid_template_columns": null,
            "grid_template_rows": null,
            "height": null,
            "justify_content": null,
            "justify_items": null,
            "left": null,
            "margin": null,
            "max_height": null,
            "max_width": null,
            "min_height": null,
            "min_width": null,
            "object_fit": null,
            "object_position": null,
            "order": null,
            "overflow": null,
            "overflow_x": null,
            "overflow_y": null,
            "padding": null,
            "right": null,
            "top": null,
            "visibility": null,
            "width": null
          }
        },
        "63eca14b6a63452a9becfae58f2a61a2": {
          "model_module": "@jupyter-widgets/controls",
          "model_name": "DescriptionStyleModel",
          "model_module_version": "1.5.0",
          "state": {
            "_model_module": "@jupyter-widgets/controls",
            "_model_module_version": "1.5.0",
            "_model_name": "DescriptionStyleModel",
            "_view_count": null,
            "_view_module": "@jupyter-widgets/base",
            "_view_module_version": "1.2.0",
            "_view_name": "StyleView",
            "description_width": ""
          }
        },
        "531161dc4b554ec1afe4ea4ef001d102": {
          "model_module": "@jupyter-widgets/base",
          "model_name": "LayoutModel",
          "model_module_version": "1.2.0",
          "state": {
            "_model_module": "@jupyter-widgets/base",
            "_model_module_version": "1.2.0",
            "_model_name": "LayoutModel",
            "_view_count": null,
            "_view_module": "@jupyter-widgets/base",
            "_view_module_version": "1.2.0",
            "_view_name": "LayoutView",
            "align_content": null,
            "align_items": null,
            "align_self": null,
            "border": null,
            "bottom": null,
            "display": null,
            "flex": null,
            "flex_flow": null,
            "grid_area": null,
            "grid_auto_columns": null,
            "grid_auto_flow": null,
            "grid_auto_rows": null,
            "grid_column": null,
            "grid_gap": null,
            "grid_row": null,
            "grid_template_areas": null,
            "grid_template_columns": null,
            "grid_template_rows": null,
            "height": null,
            "justify_content": null,
            "justify_items": null,
            "left": null,
            "margin": null,
            "max_height": null,
            "max_width": null,
            "min_height": null,
            "min_width": null,
            "object_fit": null,
            "object_position": null,
            "order": null,
            "overflow": null,
            "overflow_x": null,
            "overflow_y": null,
            "padding": null,
            "right": null,
            "top": null,
            "visibility": null,
            "width": null
          }
        },
        "e1383bdf7823477db96f15b7e1356f56": {
          "model_module": "@jupyter-widgets/controls",
          "model_name": "ProgressStyleModel",
          "model_module_version": "1.5.0",
          "state": {
            "_model_module": "@jupyter-widgets/controls",
            "_model_module_version": "1.5.0",
            "_model_name": "ProgressStyleModel",
            "_view_count": null,
            "_view_module": "@jupyter-widgets/base",
            "_view_module_version": "1.2.0",
            "_view_name": "StyleView",
            "bar_color": null,
            "description_width": ""
          }
        },
        "8ca41101600b40f4ba102dfb22a11eee": {
          "model_module": "@jupyter-widgets/base",
          "model_name": "LayoutModel",
          "model_module_version": "1.2.0",
          "state": {
            "_model_module": "@jupyter-widgets/base",
            "_model_module_version": "1.2.0",
            "_model_name": "LayoutModel",
            "_view_count": null,
            "_view_module": "@jupyter-widgets/base",
            "_view_module_version": "1.2.0",
            "_view_name": "LayoutView",
            "align_content": null,
            "align_items": null,
            "align_self": null,
            "border": null,
            "bottom": null,
            "display": null,
            "flex": null,
            "flex_flow": null,
            "grid_area": null,
            "grid_auto_columns": null,
            "grid_auto_flow": null,
            "grid_auto_rows": null,
            "grid_column": null,
            "grid_gap": null,
            "grid_row": null,
            "grid_template_areas": null,
            "grid_template_columns": null,
            "grid_template_rows": null,
            "height": null,
            "justify_content": null,
            "justify_items": null,
            "left": null,
            "margin": null,
            "max_height": null,
            "max_width": null,
            "min_height": null,
            "min_width": null,
            "object_fit": null,
            "object_position": null,
            "order": null,
            "overflow": null,
            "overflow_x": null,
            "overflow_y": null,
            "padding": null,
            "right": null,
            "top": null,
            "visibility": null,
            "width": null
          }
        },
        "a7e971a640ba46c8a845c7ae1ae26b2d": {
          "model_module": "@jupyter-widgets/controls",
          "model_name": "DescriptionStyleModel",
          "model_module_version": "1.5.0",
          "state": {
            "_model_module": "@jupyter-widgets/controls",
            "_model_module_version": "1.5.0",
            "_model_name": "DescriptionStyleModel",
            "_view_count": null,
            "_view_module": "@jupyter-widgets/base",
            "_view_module_version": "1.2.0",
            "_view_name": "StyleView",
            "description_width": ""
          }
        },
        "545406e4d46745559c23bbc9f83ecf40": {
          "model_module": "@jupyter-widgets/controls",
          "model_name": "HBoxModel",
          "model_module_version": "1.5.0",
          "state": {
            "_dom_classes": [],
            "_model_module": "@jupyter-widgets/controls",
            "_model_module_version": "1.5.0",
            "_model_name": "HBoxModel",
            "_view_count": null,
            "_view_module": "@jupyter-widgets/controls",
            "_view_module_version": "1.5.0",
            "_view_name": "HBoxView",
            "box_style": "",
            "children": [
              "IPY_MODEL_4a45950083cc4101973ce536a1b62cee",
              "IPY_MODEL_740f7550843b4bcb9396487c8517f2ad",
              "IPY_MODEL_984bb4ded92145b1a092a6273525048b"
            ],
            "layout": "IPY_MODEL_f7d5c938ddb6497c9cb78a370bd89fd3"
          }
        },
        "4a45950083cc4101973ce536a1b62cee": {
          "model_module": "@jupyter-widgets/controls",
          "model_name": "HTMLModel",
          "model_module_version": "1.5.0",
          "state": {
            "_dom_classes": [],
            "_model_module": "@jupyter-widgets/controls",
            "_model_module_version": "1.5.0",
            "_model_name": "HTMLModel",
            "_view_count": null,
            "_view_module": "@jupyter-widgets/controls",
            "_view_module_version": "1.5.0",
            "_view_name": "HTMLView",
            "description": "",
            "description_tooltip": null,
            "layout": "IPY_MODEL_f1beec82dbb44d269287f7562f57fc55",
            "placeholder": "​",
            "style": "IPY_MODEL_1e3981d810de4c19a0726e3ab3f54fff",
            "value": "Downloading: 100%"
          }
        },
        "740f7550843b4bcb9396487c8517f2ad": {
          "model_module": "@jupyter-widgets/controls",
          "model_name": "FloatProgressModel",
          "model_module_version": "1.5.0",
          "state": {
            "_dom_classes": [],
            "_model_module": "@jupyter-widgets/controls",
            "_model_module_version": "1.5.0",
            "_model_name": "FloatProgressModel",
            "_view_count": null,
            "_view_module": "@jupyter-widgets/controls",
            "_view_module_version": "1.5.0",
            "_view_name": "ProgressView",
            "bar_style": "success",
            "description": "",
            "description_tooltip": null,
            "layout": "IPY_MODEL_038b75bb6e33448a9a46616ca081a644",
            "max": 160,
            "min": 0,
            "orientation": "horizontal",
            "style": "IPY_MODEL_4d6a21ce20004b10a05b163b4bc38737",
            "value": 160
          }
        },
        "984bb4ded92145b1a092a6273525048b": {
          "model_module": "@jupyter-widgets/controls",
          "model_name": "HTMLModel",
          "model_module_version": "1.5.0",
          "state": {
            "_dom_classes": [],
            "_model_module": "@jupyter-widgets/controls",
            "_model_module_version": "1.5.0",
            "_model_name": "HTMLModel",
            "_view_count": null,
            "_view_module": "@jupyter-widgets/controls",
            "_view_module_version": "1.5.0",
            "_view_name": "HTMLView",
            "description": "",
            "description_tooltip": null,
            "layout": "IPY_MODEL_e84b14eb5a7e481aa694b12893b65ec8",
            "placeholder": "​",
            "style": "IPY_MODEL_9f63287b314e4718ac09f2d7f541b4b9",
            "value": " 160/160 [00:00&lt;00:00, 2.42kB/s]"
          }
        },
        "f7d5c938ddb6497c9cb78a370bd89fd3": {
          "model_module": "@jupyter-widgets/base",
          "model_name": "LayoutModel",
          "model_module_version": "1.2.0",
          "state": {
            "_model_module": "@jupyter-widgets/base",
            "_model_module_version": "1.2.0",
            "_model_name": "LayoutModel",
            "_view_count": null,
            "_view_module": "@jupyter-widgets/base",
            "_view_module_version": "1.2.0",
            "_view_name": "LayoutView",
            "align_content": null,
            "align_items": null,
            "align_self": null,
            "border": null,
            "bottom": null,
            "display": null,
            "flex": null,
            "flex_flow": null,
            "grid_area": null,
            "grid_auto_columns": null,
            "grid_auto_flow": null,
            "grid_auto_rows": null,
            "grid_column": null,
            "grid_gap": null,
            "grid_row": null,
            "grid_template_areas": null,
            "grid_template_columns": null,
            "grid_template_rows": null,
            "height": null,
            "justify_content": null,
            "justify_items": null,
            "left": null,
            "margin": null,
            "max_height": null,
            "max_width": null,
            "min_height": null,
            "min_width": null,
            "object_fit": null,
            "object_position": null,
            "order": null,
            "overflow": null,
            "overflow_x": null,
            "overflow_y": null,
            "padding": null,
            "right": null,
            "top": null,
            "visibility": null,
            "width": null
          }
        },
        "f1beec82dbb44d269287f7562f57fc55": {
          "model_module": "@jupyter-widgets/base",
          "model_name": "LayoutModel",
          "model_module_version": "1.2.0",
          "state": {
            "_model_module": "@jupyter-widgets/base",
            "_model_module_version": "1.2.0",
            "_model_name": "LayoutModel",
            "_view_count": null,
            "_view_module": "@jupyter-widgets/base",
            "_view_module_version": "1.2.0",
            "_view_name": "LayoutView",
            "align_content": null,
            "align_items": null,
            "align_self": null,
            "border": null,
            "bottom": null,
            "display": null,
            "flex": null,
            "flex_flow": null,
            "grid_area": null,
            "grid_auto_columns": null,
            "grid_auto_flow": null,
            "grid_auto_rows": null,
            "grid_column": null,
            "grid_gap": null,
            "grid_row": null,
            "grid_template_areas": null,
            "grid_template_columns": null,
            "grid_template_rows": null,
            "height": null,
            "justify_content": null,
            "justify_items": null,
            "left": null,
            "margin": null,
            "max_height": null,
            "max_width": null,
            "min_height": null,
            "min_width": null,
            "object_fit": null,
            "object_position": null,
            "order": null,
            "overflow": null,
            "overflow_x": null,
            "overflow_y": null,
            "padding": null,
            "right": null,
            "top": null,
            "visibility": null,
            "width": null
          }
        },
        "1e3981d810de4c19a0726e3ab3f54fff": {
          "model_module": "@jupyter-widgets/controls",
          "model_name": "DescriptionStyleModel",
          "model_module_version": "1.5.0",
          "state": {
            "_model_module": "@jupyter-widgets/controls",
            "_model_module_version": "1.5.0",
            "_model_name": "DescriptionStyleModel",
            "_view_count": null,
            "_view_module": "@jupyter-widgets/base",
            "_view_module_version": "1.2.0",
            "_view_name": "StyleView",
            "description_width": ""
          }
        },
        "038b75bb6e33448a9a46616ca081a644": {
          "model_module": "@jupyter-widgets/base",
          "model_name": "LayoutModel",
          "model_module_version": "1.2.0",
          "state": {
            "_model_module": "@jupyter-widgets/base",
            "_model_module_version": "1.2.0",
            "_model_name": "LayoutModel",
            "_view_count": null,
            "_view_module": "@jupyter-widgets/base",
            "_view_module_version": "1.2.0",
            "_view_name": "LayoutView",
            "align_content": null,
            "align_items": null,
            "align_self": null,
            "border": null,
            "bottom": null,
            "display": null,
            "flex": null,
            "flex_flow": null,
            "grid_area": null,
            "grid_auto_columns": null,
            "grid_auto_flow": null,
            "grid_auto_rows": null,
            "grid_column": null,
            "grid_gap": null,
            "grid_row": null,
            "grid_template_areas": null,
            "grid_template_columns": null,
            "grid_template_rows": null,
            "height": null,
            "justify_content": null,
            "justify_items": null,
            "left": null,
            "margin": null,
            "max_height": null,
            "max_width": null,
            "min_height": null,
            "min_width": null,
            "object_fit": null,
            "object_position": null,
            "order": null,
            "overflow": null,
            "overflow_x": null,
            "overflow_y": null,
            "padding": null,
            "right": null,
            "top": null,
            "visibility": null,
            "width": null
          }
        },
        "4d6a21ce20004b10a05b163b4bc38737": {
          "model_module": "@jupyter-widgets/controls",
          "model_name": "ProgressStyleModel",
          "model_module_version": "1.5.0",
          "state": {
            "_model_module": "@jupyter-widgets/controls",
            "_model_module_version": "1.5.0",
            "_model_name": "ProgressStyleModel",
            "_view_count": null,
            "_view_module": "@jupyter-widgets/base",
            "_view_module_version": "1.2.0",
            "_view_name": "StyleView",
            "bar_color": null,
            "description_width": ""
          }
        },
        "e84b14eb5a7e481aa694b12893b65ec8": {
          "model_module": "@jupyter-widgets/base",
          "model_name": "LayoutModel",
          "model_module_version": "1.2.0",
          "state": {
            "_model_module": "@jupyter-widgets/base",
            "_model_module_version": "1.2.0",
            "_model_name": "LayoutModel",
            "_view_count": null,
            "_view_module": "@jupyter-widgets/base",
            "_view_module_version": "1.2.0",
            "_view_name": "LayoutView",
            "align_content": null,
            "align_items": null,
            "align_self": null,
            "border": null,
            "bottom": null,
            "display": null,
            "flex": null,
            "flex_flow": null,
            "grid_area": null,
            "grid_auto_columns": null,
            "grid_auto_flow": null,
            "grid_auto_rows": null,
            "grid_column": null,
            "grid_gap": null,
            "grid_row": null,
            "grid_template_areas": null,
            "grid_template_columns": null,
            "grid_template_rows": null,
            "height": null,
            "justify_content": null,
            "justify_items": null,
            "left": null,
            "margin": null,
            "max_height": null,
            "max_width": null,
            "min_height": null,
            "min_width": null,
            "object_fit": null,
            "object_position": null,
            "order": null,
            "overflow": null,
            "overflow_x": null,
            "overflow_y": null,
            "padding": null,
            "right": null,
            "top": null,
            "visibility": null,
            "width": null
          }
        },
        "9f63287b314e4718ac09f2d7f541b4b9": {
          "model_module": "@jupyter-widgets/controls",
          "model_name": "DescriptionStyleModel",
          "model_module_version": "1.5.0",
          "state": {
            "_model_module": "@jupyter-widgets/controls",
            "_model_module_version": "1.5.0",
            "_model_name": "DescriptionStyleModel",
            "_view_count": null,
            "_view_module": "@jupyter-widgets/base",
            "_view_module_version": "1.2.0",
            "_view_name": "StyleView",
            "description_width": ""
          }
        }
      }
    }
  },
  "cells": [
    {
      "cell_type": "markdown",
      "metadata": {
        "id": "view-in-github",
        "colab_type": "text"
      },
      "source": [
        "<a href=\"https://colab.research.google.com/github/jinnovation/uncommon-hacks-22-demo/blob/master/Uncommon_Hacks_'22_Bootstrapping_ML_Projects_with_Hugging_Face_and_Gradio.ipynb\" target=\"_parent\"><img src=\"https://colab.research.google.com/assets/colab-badge.svg\" alt=\"Open In Colab\"/></a>"
      ]
    },
    {
      "cell_type": "markdown",
      "source": [
        "# Bootstrapping ML Projects with Hugging Face and Gradio\n",
        "**Author**: [Jonathan Jin](https://jonathanj.in/)\n",
        "\n",
        "*This notebook was given to attendees of Jonathan's talk at [Uncommon Hacks 2022](https://uncommonhacks.com/) at the University of Chicago as a \"parting gift.\"*"
      ],
      "metadata": {
        "id": "WZ-lWrP6aHYz"
      }
    },
    {
      "cell_type": "markdown",
      "source": [
        "## Overview\n",
        "\n",
        "Machine learning, from a beginner's perspective, can feel impenetrable. Even with some experience designing and training models—knowledge that itself takes a fair amount of time to develop—the sheer amount of techniques, model architectures, machine learning frameworks, and tooling can make things feel less like a learning curve and more like a learning cliff.\n",
        "\n",
        "Thankfully, ML as a field evolves quickly, and things have improved fairly significantly in the last couple of years. In particular, the advent of [transfer learning](https://en.wikipedia.org/wiki/Transfer_learning), combined with the practice of [fine-tuning pre-trained models](https://huggingface.co/docs/transformers/training) for domains such as natural language processing (NLP), led to it becoming common practice for researchers to publish their models in **pre-trained form**—ready for use in your own applications, no expensive and time-consuming training and data collection required.\n",
        "\n",
        "[Hugging Face](https://huggingface.co) (named after the 🤗 emoji) has emerged as one of the most prominent players in this space. Their [Model Hub](https://huggingface.co/models) is like a \"GitHub for pre-trained models.\" Companies such as Google and Facebook/Meta often provide versions of their models, such as [Facebook's BART](https://huggingface.co/facebook/bart-large-mnli) or [Google's BERT](https://huggingface.co/bert-base-uncased?text=The+goal+of+life+is+%5BMASK%5D), ready for immediate use.\n",
        "\n",
        "Combining the prevalent availability of pre-trained models with \"applications-as-code\" libraries such as [Gradio](https://gradio.app/) or [Streamlit](https://streamlit.io/) (Python's answers to R's [Shiny](https://shiny.rstudio.com)), we have a great foundation for **prototyping and playing around with machine learning in products**. This can allow you to use machine learning to build products/projects or prototype ideas, without needing to design, develop, or train your own model—and all of the associated overhead.\n",
        "\n",
        "This notebook will briefly walk you through Hugging Face and Gradio. My hope is that this notebook will encourage you to play around with machine learning from a different angle—less \"how can I design and train a model to solve this problem?\" and more \"how can I use machine learning in a product to solve this problem?\"\n",
        "\n",
        "Enjoy. 😃\n",
        "\n",
        "## How to Use This Notebook\n",
        "\n",
        "I'm assuming you've opened this notebook in Google Colaboratory. If so, you effectively have your own \"copy\" of this notebook, and you can run all code blocks in here directly—no risk of overwriting or clobbering anyone else.\n",
        "\n",
        "Alternatively, this notebook is also accessible on GitHub at: [`jinnovation/uncommon-hacks-22-demo`](https://github.com/jinnovation/uncommon-hacks-22-demo). You are more than welcome to fork that repo and run the notebook yourself locally using a local [Jupyter](https://jupyter.org/install) instance."
      ],
      "metadata": {
        "id": "n_P3OzyCafMu"
      }
    },
    {
      "cell_type": "markdown",
      "source": [
        "## Getting Started\n",
        "\n",
        "First we'll install our dependencies. Run the following command to install the following packages:\n",
        "- Gradio, which we'll use to create \"applications-as-code\";\n",
        "- [🤗 Transformers](https://huggingface.co/docs/transformers/index), which we'll use to download and use a pre-trained model in our application.\n"
      ],
      "metadata": {
        "id": "kyJREnRTik-q"
      }
    },
    {
      "cell_type": "code",
      "execution_count": null,
      "metadata": {
        "id": "0t-5Z4ax75wH"
      },
      "outputs": [],
      "source": [
        "%pip install gradio transformers"
      ]
    },
    {
      "cell_type": "markdown",
      "source": [
        "*Side note: The `transformers` package is in reference to the [transformer](https://en.wikipedia.org/wiki/Transformer_(machine_learning_model)) machine learning model that's emerged as \"the new hotness\" in natural language processing of late. Because in-depth knowledge of the transformers design and architecture is not necessary for this exercise ~and because I also have no idea how they work lol~ we won't be talking too much about this. Feel free to read up on your own time!*"
      ],
      "metadata": {
        "id": "yYvY71gQkNGp"
      }
    },
    {
      "cell_type": "markdown",
      "source": [
        "## Intro to Gradio\n",
        "\n",
        "I've mentioned Gradio a couple of times at this point, so let's talk a little about it.\n",
        "\n",
        "[Gradio](https://gradio.app/) allows you to quickly build interactive web applications in Python. If you've taken statistics courses, you may have run into [Shiny](https://shiny.rstudio.com/) for [R](https://en.wikipedia.org/wiki/R_(programming_language)). Gradio might be considered one of Python's answers to Shiny. [Streamlit](https://streamlit.io/) is another example.\n",
        "\n",
        "These packages allow developers to quickly build interactive web applications around Python functions. As such, they're a great tool for:\n",
        "- Prototyping product ideas;\n",
        "- Generating interactive visualizations or reports, e.g. presenting analyses and results in a tactile and engaging way."
      ],
      "metadata": {
        "id": "okQLJ9DSOZM4"
      }
    },
    {
      "cell_type": "markdown",
      "source": [
        "Let's set up a quick \"hello world\" application using Gradio. Run the following code block to create an interactive \"web app\" that you can run from within this notebook itself."
      ],
      "metadata": {
        "id": "cJRlrvzynaaY"
      }
    },
    {
      "cell_type": "code",
      "source": [
        "import gradio as gr\n",
        "\n",
        "def greet(name):\n",
        "    return \"Hello \" + name + \"!\"\n",
        "\n",
        "iface = gr.Interface(\n",
        "    fn=greet,\n",
        "    inputs=gr.inputs.Textbox(\n",
        "        lines=2, \n",
        "        placeholder=\"Type in your name here and hit 'Submit' below\",\n",
        "    ),\n",
        "    outputs=\"text\",\n",
        "    title=\"Hello World: Gradio Edition\",\n",
        "    description=\"A toy 'web app' made with Gradio. Says hello to the input name.\",\n",
        "    theme=\"dark\",\n",
        "    examples=[\"JJin\", \"world\"],\n",
        ")\n",
        "iface.launch()"
      ],
      "metadata": {
        "id": "gjVMmMqQ_FRX",
        "colab": {
          "base_uri": "https://localhost:8080/",
          "height": 645
        },
        "outputId": "b5b42268-c156-4fa0-c625-304ad95d8b66"
      },
      "execution_count": 10,
      "outputs": [
        {
          "output_type": "stream",
          "name": "stdout",
          "text": [
            "Colab notebook detected. To show errors in colab notebook, set `debug=True` in `launch()`\n",
            "Running on public URL: https://25937.gradio.app\n",
            "\n",
            "This share link expires in 72 hours. For free permanent hosting, check out Spaces (https://huggingface.co/spaces)\n"
          ]
        },
        {
          "output_type": "display_data",
          "data": {
            "text/plain": [
              "<IPython.lib.display.IFrame at 0x7fd7a7db1b90>"
            ],
            "text/html": [
              "\n",
              "        <iframe\n",
              "            width=\"900\"\n",
              "            height=\"500\"\n",
              "            src=\"https://25937.gradio.app\"\n",
              "            frameborder=\"0\"\n",
              "            allowfullscreen\n",
              "        ></iframe>\n",
              "        "
            ]
          },
          "metadata": {}
        },
        {
          "output_type": "execute_result",
          "data": {
            "text/plain": [
              "(<fastapi.applications.FastAPI at 0x7fd7b95c9b10>,\n",
              " 'http://127.0.0.1:7867/',\n",
              " 'https://25937.gradio.app')"
            ]
          },
          "metadata": {},
          "execution_count": 10
        }
      ]
    },
    {
      "cell_type": "markdown",
      "source": [
        "This example really only scratches the surface of Gradio's capabilities. For example, as outputs, you can have anything from [images](https://gradio.app/docs/#o_image) to [interactive chat interfaces](https://gradio.app/docs/#o_chatbot). Inputs can be anything from [dropdowns](https://gradio.app/docs/#i_dropdown) to file uploads for [images](https://gradio.app/docs/#i_image), [videos](https://gradio.app/docs/#i_video) and [audio](https://gradio.app/docs/#i_audio).\n",
        "\n",
        "Take a look at the [Interfaces](https://gradio.app/docs/#interface) documentation for more cool stuff that you can do. The [Getting Started documentation for Gradio](https://gradio.app/getting_started/) is also a great read."
      ],
      "metadata": {
        "id": "P0EvUyK_kWz4"
      }
    },
    {
      "cell_type": "markdown",
      "source": [
        "## Intro to Hugging Face\n",
        "\n",
        "[Hugging Face](https://huggingface.co) is a startup founded in 2016. They are the authors of the [`transformers`](https://huggingface.co/transformers/) package through which machine learning engineers and researchers can: download pre-trained state-of-the-art models and \"fine-tune\" them for their specific use cases, e.g. refining a NLP model for better performance against tweets. They are a very prominent player in NLP research and development, and their \"Model Hub\" has emerged as the de facto standard for accessing the cutting-edge of NLP research.\n",
        "\n",
        "For this exercise, we'll be using `transformers` here to source a pre-trained model to build a simple image-recognition application.\n",
        "\n"
      ],
      "metadata": {
        "id": "hoYCfHjktQO9"
      }
    },
    {
      "cell_type": "markdown",
      "source": [
        "## Using an \"out-of-the-box\" visualization\n",
        "\n",
        "Gradio has tight integration with the Hugging Face Hub. With Gradio, you can load up any model in the Hugging Face Hub with a default interactive visualization. \n",
        "\n",
        "For more details, read: [Gradio > Getting Started > Loading Hugging Face Models and Spaces](https://gradio.app/getting_started/#loading-hugging-face-models-and-spaces).\n",
        "\n",
        "Here, we'll load a pre-trained version of Google's [Vision Transformer (ViT)](https://huggingface.co/google/vit-base-patch16-224) model, referred to in the Hugging Face Hub under the ID of `google/vit-base-patch16-224`."
      ],
      "metadata": {
        "id": "22FaBVbzOl2t"
      }
    },
    {
      "cell_type": "code",
      "source": [
        "import gradio as gr\n",
        "\n",
        "ui = gr.Interface.load(\n",
        "    name=\"huggingface/google/vit-base-patch16-224\",\n",
        "    theme=\"dark-huggingface\",\n",
        "    \n",
        ")\n",
        "ui.launch()"
      ],
      "metadata": {
        "colab": {
          "base_uri": "https://localhost:8080/",
          "height": 663
        },
        "id": "93rF3ySUPJeU",
        "outputId": "33e6e5e1-e346-4222-beec-4a35f51d08dd"
      },
      "execution_count": 11,
      "outputs": [
        {
          "output_type": "stream",
          "name": "stdout",
          "text": [
            "Fetching model from: https://huggingface.co/google/vit-base-patch16-224\n",
            "Colab notebook detected. To show errors in colab notebook, set `debug=True` in `launch()`\n",
            "Running on public URL: https://41975.gradio.app\n",
            "\n",
            "This share link expires in 72 hours. For free permanent hosting, check out Spaces (https://huggingface.co/spaces)\n"
          ]
        },
        {
          "output_type": "display_data",
          "data": {
            "text/plain": [
              "<IPython.lib.display.IFrame at 0x7fd7a7dcd450>"
            ],
            "text/html": [
              "\n",
              "        <iframe\n",
              "            width=\"900\"\n",
              "            height=\"500\"\n",
              "            src=\"https://41975.gradio.app\"\n",
              "            frameborder=\"0\"\n",
              "            allowfullscreen\n",
              "        ></iframe>\n",
              "        "
            ]
          },
          "metadata": {}
        },
        {
          "output_type": "execute_result",
          "data": {
            "text/plain": [
              "(<fastapi.applications.FastAPI at 0x7fd7b95c9b10>,\n",
              " 'http://127.0.0.1:7868/',\n",
              " 'https://41975.gradio.app')"
            ]
          },
          "metadata": {},
          "execution_count": 11
        }
      ]
    },
    {
      "cell_type": "markdown",
      "source": [
        "Right out the gate, we already have a fair amount of stuff taken care of for us. With just a couple lines of code, we have image-uploading capabilities, routing to the underlying model for predictions, and a UI to wrap all of that functionality. Without Gradio, this is the kind of stuff you'd have to write an entire web application from scratch for, which then brings with it its own challenges and decisions and overhead:\n",
        "- What web framework do I use? Angular? React? Plain HTML?\n",
        "- Do I even know how to write Javascript (I definitely don't...)?\n",
        "- Where do I host this if I want people to play around with it? [AWS](https://aws.amazon.com/)? [Google Cloud](https://cloud.google.com/)?\n",
        "- Do I have experience working with cloud platforms like AWS or GCP? Time to learn!!"
      ],
      "metadata": {
        "id": "XtQlHTraxOnZ"
      }
    },
    {
      "cell_type": "markdown",
      "source": [
        "## Customizing with selectable example inputs\n",
        "\n",
        "Using the default visualization from Hugging Face is all well and good, but our customization options are by definition non-existent here.\n",
        "\n",
        "Next, let's try using the same model to provide our own customized interface. Namely, we'll provide a **drop-down of sample inputs** in addition to the image upload pane."
      ],
      "metadata": {
        "id": "0B64UmYGl5Ft"
      }
    },
    {
      "cell_type": "markdown",
      "source": [
        "First, let's download the pre-trained model so we can use it in our own code. We'll be using the [`transformers.pipeline`](https://huggingface.co/docs/transformers/v4.17.0/en/main_classes/pipelines#transformers.pipeline) abstaction here. This will let us pass inputs to the model and receive outputs almost as though it were a regular Python function. In our case, our \"function\" will be called simply `classifier`.\n"
      ],
      "metadata": {
        "id": "jqqVnNls3NpW"
      }
    },
    {
      "cell_type": "code",
      "source": [
        "from transformers import pipeline\n",
        "\n",
        "MODEL_NAME = \"google/vit-base-patch16-224\"\n",
        "\n",
        "classifier = pipeline(\"image-classification\", model=MODEL_NAME)"
      ],
      "metadata": {
        "colab": {
          "base_uri": "https://localhost:8080/",
          "height": 113,
          "referenced_widgets": [
            "918db0f52109486c86b670763ce28b4a",
            "df46e64e22924bde90358c49c366c69e",
            "3198aaef35fc4b7d9961015093c36e1d",
            "371de2c36eb9403c87e67b416f5e2103",
            "9a80afd23bbe4fd3a85a523906c1fe8c",
            "17ff12bc12034abc8a749f5f918c77ab",
            "5b82713f4b7d46268194de13df610f35",
            "f803c3cb08ce441db9b3de712c5e8489",
            "a402084700c04339bedfd774d7536a34",
            "daba19a118b54ee6befb876b8e6884c0",
            "5a6e4380665e4bb9b348cf6b2fbaab70",
            "faa96024fd8b445c8fda818f805007c3",
            "32bee01524414a279c50e06c96a46465",
            "95e3e5db4939467188b74f3f6dfa3c61",
            "5eb068d7788a437c8054090644fb39ed",
            "056edd1c814c47818b16dcf104b0c183",
            "bedcf5f641384018abcd2a963acf1091",
            "63eca14b6a63452a9becfae58f2a61a2",
            "531161dc4b554ec1afe4ea4ef001d102",
            "e1383bdf7823477db96f15b7e1356f56",
            "8ca41101600b40f4ba102dfb22a11eee",
            "a7e971a640ba46c8a845c7ae1ae26b2d",
            "545406e4d46745559c23bbc9f83ecf40",
            "4a45950083cc4101973ce536a1b62cee",
            "740f7550843b4bcb9396487c8517f2ad",
            "984bb4ded92145b1a092a6273525048b",
            "f7d5c938ddb6497c9cb78a370bd89fd3",
            "f1beec82dbb44d269287f7562f57fc55",
            "1e3981d810de4c19a0726e3ab3f54fff",
            "038b75bb6e33448a9a46616ca081a644",
            "4d6a21ce20004b10a05b163b4bc38737",
            "e84b14eb5a7e481aa694b12893b65ec8",
            "9f63287b314e4718ac09f2d7f541b4b9"
          ]
        },
        "id": "g1Tpnc5a3Sai",
        "outputId": "99f1b47f-386f-4e21-ff08-fa64d41daf6e"
      },
      "execution_count": 13,
      "outputs": [
        {
          "output_type": "display_data",
          "data": {
            "text/plain": [
              "Downloading:   0%|          | 0.00/68.0k [00:00<?, ?B/s]"
            ],
            "application/vnd.jupyter.widget-view+json": {
              "version_major": 2,
              "version_minor": 0,
              "model_id": "918db0f52109486c86b670763ce28b4a"
            }
          },
          "metadata": {}
        },
        {
          "output_type": "display_data",
          "data": {
            "text/plain": [
              "Downloading:   0%|          | 0.00/330M [00:00<?, ?B/s]"
            ],
            "application/vnd.jupyter.widget-view+json": {
              "version_major": 2,
              "version_minor": 0,
              "model_id": "faa96024fd8b445c8fda818f805007c3"
            }
          },
          "metadata": {}
        },
        {
          "output_type": "display_data",
          "data": {
            "text/plain": [
              "Downloading:   0%|          | 0.00/160 [00:00<?, ?B/s]"
            ],
            "application/vnd.jupyter.widget-view+json": {
              "version_major": 2,
              "version_minor": 0,
              "model_id": "545406e4d46745559c23bbc9f83ecf40"
            }
          },
          "metadata": {}
        }
      ]
    },
    {
      "cell_type": "markdown",
      "source": [
        "The `\"image-classification\"` argument refers to the type of \"task\" the pipeline performs. In this case, because our task (and the model we're using) performs image classification, we specify accordingly. Take a look at the `pipeline` documentation for more details, as well as an overview of the other types of \"tasks\" that `transformers` supports.\n",
        "\n",
        "Case in point, you'll notice that the resulting `classifier` is of type `ImageClassificationPipeline`."
      ],
      "metadata": {
        "id": "9d--wX9e6uhX"
      }
    },
    {
      "cell_type": "code",
      "source": [
        "type(classifier)"
      ],
      "metadata": {
        "colab": {
          "base_uri": "https://localhost:8080/"
        },
        "id": "RLfUquMP6mvL",
        "outputId": "9a46f29b-46d3-4d27-8f23-5de8cef61fab"
      },
      "execution_count": 14,
      "outputs": [
        {
          "output_type": "execute_result",
          "data": {
            "text/plain": [
              "transformers.pipelines.image_classification.ImageClassificationPipeline"
            ]
          },
          "metadata": {},
          "execution_count": 14
        }
      ]
    },
    {
      "cell_type": "markdown",
      "source": [
        "Now, we can pass in a path to a static image file as argument and receive a set of predictions and their respective probabilities. For example:"
      ],
      "metadata": {
        "id": "2c-UGi1w8ose"
      }
    },
    {
      "cell_type": "code",
      "source": [
        "!wget https://i.imgur.com/9ayWKzZ.png -O surprised-pikachu.png\n",
        "classifier(\"./surprised-pikachu.png\")"
      ],
      "metadata": {
        "colab": {
          "base_uri": "https://localhost:8080/"
        },
        "id": "gaEm3moaDPA8",
        "outputId": "3e09f79c-45c7-4d7b-ca4c-36352b9680c0"
      },
      "execution_count": 27,
      "outputs": [
        {
          "output_type": "stream",
          "name": "stdout",
          "text": [
            "--2022-03-27 20:25:35--  https://i.imgur.com/9ayWKzZ.png\n",
            "Resolving i.imgur.com (i.imgur.com)... 146.75.28.193\n",
            "Connecting to i.imgur.com (i.imgur.com)|146.75.28.193|:443... connected.\n",
            "HTTP request sent, awaiting response... 200 OK\n",
            "Length: 97373 (95K) [image/png]\n",
            "Saving to: ‘surprised-pikachu.png’\n",
            "\n",
            "\rsurprised-pikachu.p   0%[                    ]       0  --.-KB/s               \rsurprised-pikachu.p 100%[===================>]  95.09K  --.-KB/s    in 0.003s  \n",
            "\n",
            "2022-03-27 20:25:35 (27.7 MB/s) - ‘surprised-pikachu.png’ saved [97373/97373]\n",
            "\n"
          ]
        },
        {
          "output_type": "execute_result",
          "data": {
            "text/plain": [
              "[{'label': 'comic book', 'score': 0.33174237608909607},\n",
              " {'label': 'toyshop', 'score': 0.05597229301929474},\n",
              " {'label': 'jigsaw puzzle', 'score': 0.04012775793671608},\n",
              " {'label': 'laptop, laptop computer', 'score': 0.019154300913214684},\n",
              " {'label': 'rubber eraser, rubber, pencil eraser',\n",
              "  'score': 0.015469899401068687}]"
            ]
          },
          "metadata": {},
          "execution_count": 27
        }
      ]
    },
    {
      "cell_type": "markdown",
      "source": [
        "This output tells us that the model thinks, with \"confidence score\" 0.33, that the image of surprised Pikachu is a comic book. This is mostly incorrect. That said, the fact that the model does not recognize Pikachu is to be expected, considering [Vision Transformer](https://huggingface.co/google/vit-base-patch16-224) was more likely than not **not** trained using Pokemon training data.\n",
        "\n",
        "(There's a good opportunity here to fine-tune ViT to classify images of Pokemon, but that's left as an exercise to the reader. 😈)\n",
        "\n",
        "In any case, let's download some more images to use as example inputs for our application. "
      ],
      "metadata": {
        "id": "IdTcloHVDm8z"
      }
    },
    {
      "cell_type": "code",
      "source": [
        "!wget https://i.imgur.com/BNCe5bK.jpeg -O baby-capybara.jpg\n",
        "!wget https://i.imgur.com/gGd0HnK.jpeg -O baby-akita.jpg\n",
        "\n",
        "import pathlib\n",
        "from typing import Dict, Union, Optional\n",
        "\n",
        "EXAMPLE_INPUTS: Dict[str, Union[str, pathlib.Path]] = {\n",
        "    \"surprised-pikachu\": pathlib.Path(\"./surprised-pikachu.png\"),\n",
        "    \"capybara\": pathlib.Path(\"./baby-capybara.jpg\"),\n",
        "    \"puppy\": pathlib.Path(\"./baby-akita.jpg\"),\n",
        "}"
      ],
      "metadata": {
        "colab": {
          "base_uri": "https://localhost:8080/"
        },
        "id": "pCf2GHXAEqxh",
        "outputId": "55c26689-5126-44b8-b36c-918990ca11b2"
      },
      "execution_count": 34,
      "outputs": [
        {
          "output_type": "stream",
          "name": "stdout",
          "text": [
            "--2022-03-27 20:34:50--  https://i.imgur.com/BNCe5bK.jpeg\n",
            "Resolving i.imgur.com (i.imgur.com)... 146.75.32.193\n",
            "Connecting to i.imgur.com (i.imgur.com)|146.75.32.193|:443... connected.\n",
            "HTTP request sent, awaiting response... 200 OK\n",
            "Length: 230703 (225K) [image/jpeg]\n",
            "Saving to: ‘baby-capybara.jpg’\n",
            "\n",
            "\rbaby-capybara.jpg     0%[                    ]       0  --.-KB/s               \rbaby-capybara.jpg   100%[===================>] 225.30K  --.-KB/s    in 0.005s  \n",
            "\n",
            "2022-03-27 20:34:50 (48.8 MB/s) - ‘baby-capybara.jpg’ saved [230703/230703]\n",
            "\n",
            "--2022-03-27 20:34:50--  https://i.imgur.com/gGd0HnK.jpeg\n",
            "Resolving i.imgur.com (i.imgur.com)... 146.75.32.193\n",
            "Connecting to i.imgur.com (i.imgur.com)|146.75.32.193|:443... connected.\n",
            "HTTP request sent, awaiting response... 200 OK\n",
            "Length: 25739 (25K) [image/jpeg]\n",
            "Saving to: ‘baby-akita.jpg’\n",
            "\n",
            "baby-akita.jpg      100%[===================>]  25.14K  --.-KB/s    in 0s      \n",
            "\n",
            "2022-03-27 20:34:50 (88.1 MB/s) - ‘baby-akita.jpg’ saved [25739/25739]\n",
            "\n"
          ]
        }
      ]
    },
    {
      "cell_type": "markdown",
      "source": [
        "Now we'll write a new function, `classify`, that can take in either an input image (either a path to one or a image file loaded into a Python object), or an \"example ID,\" which will refer to one of the three example inputs we just set up in the previous block."
      ],
      "metadata": {
        "id": "bEdl3SUAFxnk"
      }
    },
    {
      "cell_type": "code",
      "source": [
        "import PIL\n",
        "from typing import Tuple\n",
        "\n",
        "def classify(\n",
        "    input: Optional[Union[str, PIL.Image.Image]] = None, \n",
        "    example_id: Optional[str] = None,\n",
        ") -> Tuple[str, Dict[str, float]]:\n",
        "    if input is None and example_id is not None:\n",
        "        input = PIL.Image.open(EXAMPLE_INPUTS[example_id])\n",
        "\n",
        "    classifications = classifier(input)\n",
        "    return input, {\n",
        "        c[\"label\"]: c[\"score\"] for c in classifications\n",
        "    }"
      ],
      "metadata": {
        "id": "b93XLNurOo_T"
      },
      "execution_count": 56,
      "outputs": []
    },
    {
      "cell_type": "code",
      "source": [
        "classify(example_id=\"puppy\")"
      ],
      "metadata": {
        "colab": {
          "base_uri": "https://localhost:8080/"
        },
        "id": "oBrqy4dmWCNj",
        "outputId": "b107d1e0-ab71-45f6-d80d-08b447d89f4b"
      },
      "execution_count": 57,
      "outputs": [
        {
          "output_type": "execute_result",
          "data": {
            "text/plain": [
              "(<PIL.JpegImagePlugin.JpegImageFile image mode=RGB size=600x400 at 0x7FD61E055050>,\n",
              " {'Eskimo dog, husky': 0.11203732341527939,\n",
              "  'Norwegian elkhound, elkhound': 0.043681707233190536,\n",
              "  'Siberian husky': 0.0859639123082161,\n",
              "  'dingo, warrigal, warragal, Canis dingo': 0.0856500044465065,\n",
              "  'malamute, malemute, Alaskan malamute': 0.04764827340841293})"
            ]
          },
          "metadata": {},
          "execution_count": 57
        }
      ]
    },
    {
      "cell_type": "code",
      "source": [
        "classify(input=PIL.Image.open(\"./baby-capybara.jpg\"))"
      ],
      "metadata": {
        "colab": {
          "base_uri": "https://localhost:8080/"
        },
        "id": "oBUheBQkGLzH",
        "outputId": "0a5d1e46-dc1b-408f-fed6-4057d507d89e"
      },
      "execution_count": 58,
      "outputs": [
        {
          "output_type": "execute_result",
          "data": {
            "text/plain": [
              "(<PIL.JpegImagePlugin.JpegImageFile image mode=RGB size=900x675 at 0x7FD61DF126D0>,\n",
              " {'beaver': 0.5411075353622437,\n",
              "  'marmot': 0.14890287816524506,\n",
              "  'mink': 0.07747175544500351,\n",
              "  'porcupine, hedgehog': 0.016281893476843834,\n",
              "  'weasel': 0.018355373293161392})"
            ]
          },
          "metadata": {},
          "execution_count": 58
        }
      ]
    },
    {
      "cell_type": "markdown",
      "source": [
        "Now, finally, we have all the pieces needed to set up our custom Gradio application. We alluded earlier, in `Intro to Gradio`, to several rich input and output types that Gradio supports. We'll use several here:\n",
        "- [`gradio.inputs.Image`](https://gradio.app/docs/#i_image), to allow users to upload their own images for classification;\n",
        "- [`gradio.inputs.Dropdown`](https://gradio.app/docs/#i_dropdown), which will allow users to select one of our example inputs from a drop-down menu;\n",
        "- [`gradio.outputs.Image`](https://gradio.app/docs/#o_image), which we'll use to show the image that's being classified (user-uploaded or otherwise);\n",
        "- [`gradio.outputs.Label`](https://gradio.app/docs/#o_label), which we'll use to visualize the model's prediction with their corresponding confidence scores."
      ],
      "metadata": {
        "id": "m--fEP9WH8eV"
      }
    },
    {
      "cell_type": "code",
      "source": [
        "gr.Interface(\n",
        "    fn=classify,\n",
        "    inputs=[\n",
        "            gr.inputs.Image(optional=True, type=\"pil\"),\n",
        "            gr.inputs.Dropdown(choices=list(EXAMPLE_INPUTS.keys()), type=\"value\", default=None),\n",
        "    ],\n",
        "    outputs=[\n",
        "             gr.outputs.Image(type=\"pil\"),\n",
        "             gr.outputs.Label(type=\"confidences\"),\n",
        "    ],\n",
        "    theme=\"dark-huggingface\",\n",
        ").launch()"
      ],
      "metadata": {
        "colab": {
          "base_uri": "https://localhost:8080/",
          "height": 645
        },
        "id": "i_OPwfPyn0gY",
        "outputId": "68720d04-6140-4bb2-bffc-545b2c00e3d3"
      },
      "execution_count": 61,
      "outputs": [
        {
          "output_type": "stream",
          "name": "stdout",
          "text": [
            "Colab notebook detected. To show errors in colab notebook, set `debug=True` in `launch()`\n",
            "Running on public URL: https://28210.gradio.app\n",
            "\n",
            "This share link expires in 72 hours. For free permanent hosting, check out Spaces (https://huggingface.co/spaces)\n"
          ]
        },
        {
          "output_type": "display_data",
          "data": {
            "text/plain": [
              "<IPython.lib.display.IFrame at 0x7fd61df98890>"
            ],
            "text/html": [
              "\n",
              "        <iframe\n",
              "            width=\"900\"\n",
              "            height=\"500\"\n",
              "            src=\"https://28210.gradio.app\"\n",
              "            frameborder=\"0\"\n",
              "            allowfullscreen\n",
              "        ></iframe>\n",
              "        "
            ]
          },
          "metadata": {}
        },
        {
          "output_type": "execute_result",
          "data": {
            "text/plain": [
              "(<fastapi.applications.FastAPI at 0x7fd7b95c9b10>,\n",
              " 'http://127.0.0.1:7869/',\n",
              " 'https://28210.gradio.app')"
            ]
          },
          "metadata": {},
          "execution_count": 61
        }
      ]
    },
    {
      "cell_type": "markdown",
      "source": [
        "Try selecting one of the example inputs from the drop-down. Try also uploading your own image to see what predictions you get out."
      ],
      "metadata": {
        "id": "KFO8cYkqKH9v"
      }
    },
    {
      "cell_type": "markdown",
      "source": [
        "## Conclusion\n",
        "\n",
        "This notebook gave an example of how to use pre-trained models with Python tooling to quickly get started with building prototypes of ML-based applications, allowing you to avoid most of the overhead associated with: web application development; deploying your application to cloud environments; and so on.\n",
        "\n",
        "If this feels like \"not really\" machine learning, that's because a lot of \"ML engineering,\" in my experience, really straddles the line between what's typically considered \"applied ML\" or \"ML research\" and what's typically considered \"standard\" software engineering. I'd love to go into this topic more, but this notebook's already long enough. 😇\n",
        "\n",
        "Still, I hope that this notebook helps give some inspiration about how to get started with **building ML-based applications** without necessarily needing to design, build, and train your own ML model from scratch. I hope this provides some inspiration for your hacking this weekend, as well as provides some color around the opportunities available to you in industry around ML that aren't research- or theory-based.\n",
        "\n",
        "Thanks for reading. 🤗"
      ],
      "metadata": {
        "id": "t9xAzFKjKSkk"
      }
    },
    {
      "cell_type": "markdown",
      "source": [
        "## Further Reading\n",
        "\n",
        "If you're interested in reading more about ML infrastructure, check out:\n",
        "- [This blog post from Twitter](https://blog.twitter.com/engineering/en_us/topics/insights/2018/ml-workflows) talking about their system for setting up and running \"workflows\" to train models and put them into production;\n",
        "- [This other blog post from Twitter](https://blog.twitter.com/engineering/en_us/topics/insights/2018/twittertensorflow) discussing their adoption of TensorFlow and some of their additional Twitter-specific tooling on top of it;\n",
        "- [This blog post by my teammates Sam and Josh at Spotify](https://engineering.atspotify.com/2019/12/the-winding-road-to-better-machine-learning-infrastructure-through-tensorflow-extended-and-kubeflow/), where he presents an overview of our machine learning platform and its individual components;\n",
        "- [This other blog post by my **other** teammate, Maisha, at Spotify](https://engineering.atspotify.com/2022/01/product-lessons-from-ml-home-spotifys-one-stop-shop-for-machine-learning/), where she talks about building out a product of ours called \"ML Home\";\n",
        "- [This talk by my **other** teammate, Divita, here at Spotify](https://www.youtube.com/watch?v=_j9gr4IJar0), where she presents a present-day snapshot of where things stand with Spotify's ML Platform and where we're looking to go next.\n",
        "\n",
        "I also highly recommend the seminal paper [\"Hidden Technical Debt in Machine Learning Systems\"](https://proceedings.neurips.cc/paper/2015/file/86df7dcfd896fcaf2674f757a2463eba-Paper.pdf). This paper presents a comprehensive overview of the motives and challenges associated with putting machine learning in production, outlining many of the complexities associated with it that extend beyond simply designing and training the model. It's **heavily** cited, to the point where this particular diagram has basically achieved meme status:\n",
        "\n",
        "![the boxes](https://i.imgur.com/KtkRuLu.png)"
      ],
      "metadata": {
        "id": "RFlNFy0EMfml"
      }
    }
  ]
}